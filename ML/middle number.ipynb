{
 "cells": [
  {
   "cell_type": "code",
   "execution_count": 10,
   "id": "a8e34be7",
   "metadata": {},
   "outputs": [
    {
     "name": "stdout",
     "output_type": "stream",
     "text": [
      "a is middle\n"
     ]
    }
   ],
   "source": [
    "a=10\n",
    "b=200\n",
    "c=3\n",
    "\n",
    "if a>b:\n",
    "    if a<c:\n",
    "        print(\"a is middle\")\n",
    "    else:\n",
    "        print(\"c is middle\")\n",
    "else:\n",
    "    if b<c:\n",
    "        print(\"b is middle\")\n",
    "    elif a>c:\n",
    "        print(\"a is middle\")\n",
    "    else:\n",
    "        print(\"c is middle\")"
   ]
  },
  {
   "cell_type": "code",
   "execution_count": 12,
   "id": "81a0c949",
   "metadata": {},
   "outputs": [
    {
     "name": "stdout",
     "output_type": "stream",
     "text": [
      "can\n"
     ]
    }
   ],
   "source": [
    "a=[10,20,30]\n",
    "if len(a)%2==0:\n",
    "    print(\"middle number cannot be found\")\n",
    "else:\n",
    "    "
   ]
  },
  {
   "cell_type": "code",
   "execution_count": null,
   "id": "4d868d59",
   "metadata": {},
   "outputs": [],
   "source": []
  }
 ],
 "metadata": {
  "kernelspec": {
   "display_name": "Python 3 (ipykernel)",
   "language": "python",
   "name": "python3"
  },
  "language_info": {
   "codemirror_mode": {
    "name": "ipython",
    "version": 3
   },
   "file_extension": ".py",
   "mimetype": "text/x-python",
   "name": "python",
   "nbconvert_exporter": "python",
   "pygments_lexer": "ipython3",
   "version": "3.11.3"
  }
 },
 "nbformat": 4,
 "nbformat_minor": 5
}
