{
 "cells": [
  {
   "cell_type": "code",
   "execution_count": 1,
   "metadata": {},
   "outputs": [],
   "source": [
    "import pandas as pd\n",
    "import random\n",
    "import numpy as np\n",
    "a=[]\n",
    "b=[]\n",
    "c=[]\n",
    "for i in range(0,400):\n",
    "    x=round(random.uniform(3.0,10.0),2)\n",
    "    a.append(x)\n",
    "    b.append(x*25)\n",
    "    c.append(1)\n",
    "for i in range(0,400):\n",
    "    x=round(random.uniform(3.0,10.0),2)\n",
    "    a.append(x)\n",
    "    b.append(x*15)\n",
    "    c.append(0)\n",
    "\n",
    "data={\"hight\":a,\"weight\":b,\"c\":c}\n",
    "df = pd.DataFrame(data)\n",
    "df.to_csv(\"logistic.csv\")\n",
    "\n"
   ]
  },
  {
   "cell_type": "code",
   "execution_count": 4,
   "metadata": {},
   "outputs": [
    {
     "name": "stdout",
     "output_type": "stream",
     "text": [
      "[1]\n",
      "1.0\n"
     ]
    }
   ],
   "source": [
    "from sklearn.linear_model import LogisticRegression \n",
    "from sklearn.model_selection import train_test_split\n",
    "\n",
    "\n",
    "data = pd.read_csv('knn_vs_svm.csv')\n",
    "x=data.drop(\"c\",axis=1)\n",
    "y=data[\"c\"]\n",
    "x=np.array(x)\n",
    "y=np.array(y)\n",
    "temp_list=[]\n",
    "count=0\n",
    "for i in x:\n",
    "    temp_list.append([i[1],i[2]])\n",
    "    # temp_list.append(i[2])\n",
    "    \n",
    "temp_list=np.array(temp_list)\n",
    "predict=np.array([5,155]).reshape(1,-1)\n",
    "a_train, a_test, b_train, b_test = train_test_split(temp_list,y,test_size=0.2,random_state=42)\n",
    "lr = LogisticRegression()\n",
    "lr.fit(a_train,b_train)\n",
    "print(lr.predict(predict))\n",
    "print(lr.score(a_test, b_test))"
   ]
  }
 ],
 "metadata": {
  "kernelspec": {
   "display_name": "Python 3 (ipykernel)",
   "language": "python",
   "name": "python3"
  },
  "language_info": {
   "codemirror_mode": {
    "name": "ipython",
    "version": 3
   },
   "file_extension": ".py",
   "mimetype": "text/x-python",
   "name": "python",
   "nbconvert_exporter": "python",
   "pygments_lexer": "ipython3",
   "version": "3.11.4"
  },
  "orig_nbformat": 4
 },
 "nbformat": 4,
 "nbformat_minor": 2
}
