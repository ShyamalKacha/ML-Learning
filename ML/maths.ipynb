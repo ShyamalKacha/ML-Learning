{
 "cells": [
  {
   "cell_type": "code",
   "execution_count": 5,
   "metadata": {},
   "outputs": [
    {
     "name": "stdout",
     "output_type": "stream",
     "text": [
      "5 prime\n"
     ]
    }
   ],
   "source": [
    "import math\n",
    "class simple:\n",
    "    def addition(self,a,b):\n",
    "        print(a+b)\n",
    "    def subtraction(self,a,b):\n",
    "        print(a-b)\n",
    "    def multiplication(self,a,b):\n",
    "        print(a*b)\n",
    "    def devision(self,a,b):\n",
    "        print(a/b)\n",
    "\n",
    "class complex(simple):\n",
    "    def even_odd(self,a):\n",
    "        if(a%2==1):\n",
    "            print(\"number is odd\")\n",
    "        else:\n",
    "            print(\"number is even\")\n",
    "    def prime(self,a):\n",
    "        if a > 1:\n",
    "            for i in range(2, int(a/2)+1):\n",
    "                if (a % i) == 0:\n",
    "                    print(a, \"not prime\")\n",
    "                    break\n",
    "            else:\n",
    "                print(a, \"prime\")\n",
    "        else:\n",
    "            print(a, \"not prime\")\n",
    "    def fact(self,a):\n",
    "        print(math.factorial(a))\n",
    "\n",
    "obj=complex()\n",
    "obj.prime(5)"
   ]
  }
 ],
 "metadata": {
  "kernelspec": {
   "display_name": "Python 3 (ipykernel)",
   "language": "python",
   "name": "python3"
  },
  "language_info": {
   "codemirror_mode": {
    "name": "ipython",
    "version": 3
   },
   "file_extension": ".py",
   "mimetype": "text/x-python",
   "name": "python",
   "nbconvert_exporter": "python",
   "pygments_lexer": "ipython3",
   "version": "3.11.3"
  }
 },
 "nbformat": 4,
 "nbformat_minor": 2
}
