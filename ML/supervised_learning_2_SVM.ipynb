{
 "cells": [
  {
   "cell_type": "code",
   "execution_count": 2,
   "metadata": {},
   "outputs": [],
   "source": [
    "import pandas as pd\n",
    "a=[]\n",
    "b=[]\n",
    "for i in range(1,1001):\n",
    "    a.append(i)\n",
    "    num = i\n",
    "    prime=0\n",
    "    flag = False\n",
    "    if num == 1:\n",
    "        prime=0\n",
    "    elif num > 1:\n",
    "        for i in range(2, num):\n",
    "            if (num % i) == 0:\n",
    "                flag = True\n",
    "                break\n",
    "        if flag:\n",
    "            prime=0\n",
    "        else:\n",
    "            prime=1\n",
    "    b.append(prime)\n",
    "\n",
    "data={\"a\":a,\"b\":b}\n",
    "df = pd.DataFrame(data)\n",
    "df.to_csv(\"SVM_patern_2.csv\")"
   ]
  },
  {
   "cell_type": "code",
   "execution_count": 13,
   "metadata": {},
   "outputs": [],
   "source": [
    "a=[]\n",
    "b=[]\n",
    "for i in range(1,1001):\n",
    "    a.append(i)\n",
    "    if(i%2==0):\n",
    "        b.append(1)\n",
    "    else:\n",
    "        b.append(0)\n",
    "\n",
    "data={\"a\":a,\"b\":b}\n",
    "df = pd.DataFrame(data)\n",
    "df.to_csv(\"SVM_patern_1.csv\")"
   ]
  },
  {
   "cell_type": "code",
   "execution_count": 14,
   "metadata": {},
   "outputs": [
    {
     "name": "stdout",
     "output_type": "stream",
     "text": [
      "[1]\n",
      "0.48\n"
     ]
    }
   ],
   "source": [
    "from sklearn.svm import SVC \n",
    "from sklearn.model_selection import train_test_split\n",
    "import numpy as np\n",
    "data = pd.read_csv('SVM_patern_1.csv')\n",
    "a=data[\"a\"]\n",
    "b=data[\"b\"]\n",
    "a=np.array(a)\n",
    "b=np.array(b)\n",
    "a=a.reshape(-1,1)\n",
    "b=b.reshape(-1,1)\n",
    "\n",
    "a_train, a_test, b_train, b_test = train_test_split(a, b,test_size=0.2,random_state=42)\n",
    "# a_train = a[:800]\n",
    "# b_train = b[:800]\n",
    "b_train=np.ravel(b_train)\n",
    "# a_test = a[800:]\n",
    "# b_test = b[800:]\n",
    "\n",
    "model = SVC(kernel='linear')\n",
    "model.fit(a_train,b_train)\n",
    "print(model.predict(np.array(2).reshape(-1,1)))\n",
    "print(model.score(a_test, b_test))"
   ]
  },
  {
   "cell_type": "code",
   "execution_count": 3,
   "metadata": {},
   "outputs": [
    {
     "name": "stderr",
     "output_type": "stream",
     "text": [
      "C:\\Users\\Admin\\anaconda3\\Lib\\site-packages\\sklearn\\utils\\validation.py:1184: DataConversionWarning: A column-vector y was passed when a 1d array was expected. Please change the shape of y to (n_samples, ), for example using ravel().\n",
      "  y = column_or_1d(y, warn=True)\n"
     ]
    },
    {
     "name": "stdout",
     "output_type": "stream",
     "text": [
      "[0]\n",
      "0.84\n"
     ]
    }
   ],
   "source": [
    "from sklearn.svm import SVC \n",
    "from sklearn.model_selection import train_test_split\n",
    "import numpy as np\n",
    "data = pd.read_csv('SVM_patern_2.csv')\n",
    "a=data[\"a\"]\n",
    "b=data[\"b\"]\n",
    "a=np.array(a)\n",
    "b=np.array(b)\n",
    "a=a.reshape(-1,1)\n",
    "b=b.reshape(-1,1)\n",
    "\n",
    "a_train, a_test, b_train, b_test = train_test_split(a, b,test_size=0.2,random_state=42)\n",
    "# a_train = a[:800]\n",
    "# b_train = b[:800]\n",
    "# b_train=np.ravel(b_train)\n",
    "# a_test = a[800:]\n",
    "# b_test = b[800:]\n",
    "\n",
    "model = SVC(kernel='linear')\n",
    "model.fit(a_train,b_train)\n",
    "print(model.predict(np.array(13).reshape(-1,1)))\n",
    "print(model.score(a_test, b_test))"
   ]
  }
 ],
 "metadata": {
  "kernelspec": {
   "display_name": "Python 3 (ipykernel)",
   "language": "python",
   "name": "python3"
  },
  "language_info": {
   "codemirror_mode": {
    "name": "ipython",
    "version": 3
   },
   "file_extension": ".py",
   "mimetype": "text/x-python",
   "name": "python",
   "nbconvert_exporter": "python",
   "pygments_lexer": "ipython3",
   "version": "3.11.4"
  },
  "orig_nbformat": 4
 },
 "nbformat": 4,
 "nbformat_minor": 2
}
