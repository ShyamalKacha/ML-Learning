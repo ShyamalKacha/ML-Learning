{
 "cells": [
  {
   "cell_type": "code",
   "execution_count": 2,
   "id": "073bcc21",
   "metadata": {},
   "outputs": [
    {
     "data": {
      "text/plain": [
       "True"
      ]
     },
     "execution_count": 2,
     "metadata": {},
     "output_type": "execute_result"
    }
   ],
   "source": [
    "# ! pip install opencv-python\n",
    "import cv2\n",
    "\n",
    "a=cv2.imread(r'C:\\Users\\Admin\\Desktop\\ML\\1.png')\n",
    "b=a*3\n",
    "cv2.imwrite(\"3.png\",b)"
   ]
  },
  {
   "cell_type": "code",
   "execution_count": 5,
   "id": "1dc9ca66",
   "metadata": {},
   "outputs": [
    {
     "data": {
      "text/plain": [
       "numpy.ndarray"
      ]
     },
     "execution_count": 5,
     "metadata": {},
     "output_type": "execute_result"
    }
   ],
   "source": [
    "type(a)"
   ]
  },
  {
   "cell_type": "code",
   "execution_count": 4,
   "id": "d62b18c7",
   "metadata": {},
   "outputs": [
    {
     "name": "stdout",
     "output_type": "stream",
     "text": [
      "0\n"
     ]
    },
    {
     "ename": "KeyboardInterrupt",
     "evalue": "",
     "output_type": "error",
     "traceback": [
      "\u001b[1;31m---------------------------------------------------------------------------\u001b[0m",
      "\u001b[1;31mKeyboardInterrupt\u001b[0m                         Traceback (most recent call last)",
      "Cell \u001b[1;32mIn[4], line 7\u001b[0m\n\u001b[0;32m      5\u001b[0m \u001b[39mwhile\u001b[39;00m i\u001b[39m<\u001b[39m\u001b[39m=\u001b[39m\u001b[39m1046\u001b[39m:\n\u001b[0;32m      6\u001b[0m     j\u001b[39m=\u001b[39m\u001b[39m0\u001b[39m\n\u001b[1;32m----> 7\u001b[0m     \u001b[39mwhile\u001b[39;00m j\u001b[39m<\u001b[39m\u001b[39m=\u001b[39m\u001b[39m1066\u001b[39m:\n\u001b[0;32m      8\u001b[0m         k\u001b[39m=\u001b[39m\u001b[39m0\u001b[39m\n\u001b[0;32m      9\u001b[0m         \u001b[39mwhile\u001b[39;00m k\u001b[39m<\u001b[39m\u001b[39m=\u001b[39m\u001b[39m2\u001b[39m:\n",
      "\u001b[1;31mKeyboardInterrupt\u001b[0m: "
     ]
    }
   ],
   "source": [
    "print(a[1,1,1])\n",
    "i=0\n",
    "j=0\n",
    "k=0\n",
    "while i<=1046:\n",
    "    j=0\n",
    "    while j<=1066:\n",
    "        k=0\n",
    "        while k<=2:\n",
    "            a[i,j,k]=a[i,j,k]+10\n",
    "            k+=1\n",
    "        j+=1\n",
    "    i+=1\n",
    "    \n",
    "cv2.imwrite(\"3.png\",a)"
   ]
  },
  {
   "cell_type": "code",
   "execution_count": 7,
   "id": "c0cb41f3",
   "metadata": {},
   "outputs": [
    {
     "data": {
      "text/plain": [
       "(1047, 1067, 3)"
      ]
     },
     "execution_count": 7,
     "metadata": {},
     "output_type": "execute_result"
    }
   ],
   "source": [
    "a.shape"
   ]
  },
  {
   "cell_type": "code",
   "execution_count": 8,
   "id": "b2b1fd4e",
   "metadata": {},
   "outputs": [
    {
     "data": {
      "text/plain": [
       "array([[[10, 10, 10],\n",
       "        [10, 10, 10],\n",
       "        [10, 10, 10],\n",
       "        ...,\n",
       "        [10, 10, 10],\n",
       "        [10, 10, 10],\n",
       "        [10, 10, 10]],\n",
       "\n",
       "       [[10, 10, 10],\n",
       "        [10, 10, 10],\n",
       "        [10, 10, 10],\n",
       "        ...,\n",
       "        [10, 10, 10],\n",
       "        [10, 10, 10],\n",
       "        [10, 10, 10]],\n",
       "\n",
       "       [[10, 10, 10],\n",
       "        [10, 10, 10],\n",
       "        [10, 10, 10],\n",
       "        ...,\n",
       "        [10, 10, 10],\n",
       "        [10, 10, 10],\n",
       "        [10, 10, 10]],\n",
       "\n",
       "       ...,\n",
       "\n",
       "       [[ 0,  0,  0],\n",
       "        [ 0,  0,  0],\n",
       "        [ 0,  0,  0],\n",
       "        ...,\n",
       "        [ 9,  9,  9],\n",
       "        [ 9,  9,  9],\n",
       "        [ 9,  9,  9]],\n",
       "\n",
       "       [[ 0,  0,  0],\n",
       "        [ 0,  0,  0],\n",
       "        [ 0,  0,  0],\n",
       "        ...,\n",
       "        [ 8,  8,  8],\n",
       "        [ 8,  8,  8],\n",
       "        [ 8,  8,  8]],\n",
       "\n",
       "       [[ 0,  0,  0],\n",
       "        [ 0,  0,  0],\n",
       "        [ 0,  0,  0],\n",
       "        ...,\n",
       "        [ 7,  7,  7],\n",
       "        [ 7,  7,  7],\n",
       "        [ 7,  7,  7]]], dtype=uint8)"
      ]
     },
     "execution_count": 8,
     "metadata": {},
     "output_type": "execute_result"
    }
   ],
   "source": [
    "a"
   ]
  }
 ],
 "metadata": {
  "kernelspec": {
   "display_name": "Python 3 (ipykernel)",
   "language": "python",
   "name": "python3"
  },
  "language_info": {
   "codemirror_mode": {
    "name": "ipython",
    "version": 3
   },
   "file_extension": ".py",
   "mimetype": "text/x-python",
   "name": "python",
   "nbconvert_exporter": "python",
   "pygments_lexer": "ipython3",
   "version": "3.11.4"
  }
 },
 "nbformat": 4,
 "nbformat_minor": 5
}
