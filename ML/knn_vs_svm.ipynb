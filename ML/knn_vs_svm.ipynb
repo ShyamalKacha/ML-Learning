{
 "cells": [
  {
   "cell_type": "markdown",
   "metadata": {},
   "source": [
    "25->22->21\n",
    "15->18->19\n",
    "2% error and 5% error\n",
    "\n",
    "a) 100-300-_\n",
    "b)_-200-200\n",
    "c)_-_-400"
   ]
  },
  {
   "cell_type": "markdown",
   "metadata": {},
   "source": [
    "25,15"
   ]
  },
  {
   "cell_type": "code",
   "execution_count": 2,
   "metadata": {},
   "outputs": [],
   "source": [
    "import pandas as pd\n",
    "import random\n",
    "import numpy as np\n",
    "a=[]\n",
    "b=[]\n",
    "c=[]\n",
    "for i in range(0,400):\n",
    "    x=round(random.uniform(3.0,10.0),2)\n",
    "    a.append(x)\n",
    "    b.append(x*25)\n",
    "    c.append(1)\n",
    "for i in range(0,400):\n",
    "    x=round(random.uniform(3.0,10.0),2)\n",
    "    a.append(x)\n",
    "    b.append(x*15)\n",
    "    c.append(0)\n",
    "\n",
    "data={\"hight\":a,\"weight\":b,\"c\":c}\n",
    "df = pd.DataFrame(data)\n",
    "df.to_csv(\"knn_vs_svm.csv\")\n",
    "\n"
   ]
  },
  {
   "cell_type": "code",
   "execution_count": 3,
   "metadata": {},
   "outputs": [
    {
     "name": "stdout",
     "output_type": "stream",
     "text": [
      "[1]\n",
      "1.0\n"
     ]
    }
   ],
   "source": [
    "from sklearn.svm import SVC \n",
    "from sklearn.model_selection import train_test_split\n",
    "from sklearn.neighbors import KNeighborsClassifier\n",
    "\n",
    "data = pd.read_csv('knn_vs_svm.csv')\n",
    "x=data.drop(\"c\",axis=1)\n",
    "y=data[\"c\"]\n",
    "x=np.array(x)\n",
    "y=np.array(y)\n",
    "temp_list=[]\n",
    "count=0\n",
    "for i in x:\n",
    "    temp_list.append([i[1],i[2]])\n",
    "    # temp_list.append(i[2])\n",
    "    \n",
    "temp_list=np.array(temp_list)\n",
    "predict=np.array([5,155]).reshape(1,-1)\n",
    "a_train, a_test, b_train, b_test = train_test_split(temp_list,y,test_size=0.2,random_state=42)\n",
    "svm = SVC(kernel='linear')\n",
    "svm.fit(a_train,b_train)\n",
    "print(svm.predict(predict))\n",
    "print(svm.score(a_test, b_test))"
   ]
  },
  {
   "cell_type": "code",
   "execution_count": 4,
   "metadata": {},
   "outputs": [
    {
     "name": "stdout",
     "output_type": "stream",
     "text": [
      "[1]\n",
      "1.0\n"
     ]
    }
   ],
   "source": [
    "knn = KNeighborsClassifier(n_neighbors = 3)\n",
    "knn.fit(a_train, b_train)\n",
    "print(knn.predict(predict))\n",
    "print(knn.score(a_test, b_test))"
   ]
  },
  {
   "cell_type": "markdown",
   "metadata": {},
   "source": [
    "22,18"
   ]
  },
  {
   "cell_type": "code",
   "execution_count": 5,
   "metadata": {},
   "outputs": [],
   "source": [
    "import pandas as pd\n",
    "import random\n",
    "import numpy as np\n",
    "a=[]\n",
    "b=[]\n",
    "c=[]\n",
    "for i in range(0,400):\n",
    "    x=round(random.uniform(3.0,10.0),2)\n",
    "    a.append(x)\n",
    "    b.append(x*22)\n",
    "    c.append(1)\n",
    "for i in range(0,400):\n",
    "    x=round(random.uniform(3.0,10.0),2)\n",
    "    a.append(x)\n",
    "    b.append(x*18)\n",
    "    c.append(0)\n",
    "\n",
    "data={\"hight\":a,\"weight\":b,\"c\":c}\n",
    "df = pd.DataFrame(data)\n",
    "df.to_csv(\"knn_vs_svm.csv\")\n",
    "\n"
   ]
  },
  {
   "cell_type": "code",
   "execution_count": 6,
   "metadata": {},
   "outputs": [
    {
     "name": "stdout",
     "output_type": "stream",
     "text": [
      "[1]\n",
      "1.0\n"
     ]
    }
   ],
   "source": [
    "from sklearn.svm import SVC \n",
    "from sklearn.model_selection import train_test_split\n",
    "from sklearn.neighbors import KNeighborsClassifier\n",
    "\n",
    "data = pd.read_csv('knn_vs_svm.csv')\n",
    "x=data.drop(\"c\",axis=1)\n",
    "y=data[\"c\"]\n",
    "x=np.array(x)\n",
    "y=np.array(y)\n",
    "temp_list=[]\n",
    "count=0\n",
    "for i in x:\n",
    "    temp_list.append([i[1],i[2]])\n",
    "    # temp_list.append(i[2])\n",
    "    \n",
    "temp_list=np.array(temp_list)\n",
    "predict=np.array([5,155]).reshape(1,-1)\n",
    "a_train, a_test, b_train, b_test = train_test_split(temp_list,y,test_size=0.2,random_state=42)\n",
    "svm = SVC(kernel='linear')\n",
    "svm.fit(a_train,b_train)\n",
    "print(svm.predict(predict))\n",
    "print(svm.score(a_test, b_test))"
   ]
  },
  {
   "cell_type": "code",
   "execution_count": 7,
   "metadata": {},
   "outputs": [
    {
     "name": "stdout",
     "output_type": "stream",
     "text": [
      "[1]\n",
      "0.975\n"
     ]
    }
   ],
   "source": [
    "knn = KNeighborsClassifier(n_neighbors = 3)\n",
    "knn.fit(a_train, b_train)\n",
    "print(knn.predict(predict))\n",
    "print(knn.score(a_test, b_test))"
   ]
  },
  {
   "cell_type": "markdown",
   "metadata": {},
   "source": [
    "21,19"
   ]
  },
  {
   "cell_type": "code",
   "execution_count": 8,
   "metadata": {},
   "outputs": [],
   "source": [
    "import pandas as pd\n",
    "import random\n",
    "import numpy as np\n",
    "a=[]\n",
    "b=[]\n",
    "c=[]\n",
    "for i in range(0,400):\n",
    "    x=round(random.uniform(3.0,10.0),2)\n",
    "    a.append(x)\n",
    "    b.append(x*21)\n",
    "    c.append(1)\n",
    "for i in range(0,400):\n",
    "    x=round(random.uniform(3.0,10.0),2)\n",
    "    a.append(x)\n",
    "    b.append(x*19)\n",
    "    c.append(0)\n",
    "\n",
    "data={\"hight\":a,\"weight\":b,\"c\":c}\n",
    "df = pd.DataFrame(data)\n",
    "df.to_csv(\"knn_vs_svm.csv\")\n",
    "\n"
   ]
  },
  {
   "cell_type": "code",
   "execution_count": 9,
   "metadata": {},
   "outputs": [
    {
     "name": "stdout",
     "output_type": "stream",
     "text": [
      "[1]\n",
      "1.0\n"
     ]
    }
   ],
   "source": [
    "from sklearn.svm import SVC \n",
    "from sklearn.model_selection import train_test_split\n",
    "from sklearn.neighbors import KNeighborsClassifier\n",
    "\n",
    "data = pd.read_csv('knn_vs_svm.csv')\n",
    "x=data.drop(\"c\",axis=1)\n",
    "y=data[\"c\"]\n",
    "x=np.array(x)\n",
    "y=np.array(y)\n",
    "temp_list=[]\n",
    "count=0\n",
    "for i in x:\n",
    "    temp_list.append([i[1],i[2]])\n",
    "    # temp_list.append(i[2])\n",
    "    \n",
    "temp_list=np.array(temp_list)\n",
    "predict=np.array([5,155]).reshape(1,-1)\n",
    "a_train, a_test, b_train, b_test = train_test_split(temp_list,y,test_size=0.2,random_state=42)\n",
    "svm = SVC(kernel='linear')\n",
    "svm.fit(a_train,b_train)\n",
    "print(svm.predict(predict))\n",
    "print(svm.score(a_test, b_test))"
   ]
  },
  {
   "cell_type": "code",
   "execution_count": 10,
   "metadata": {},
   "outputs": [
    {
     "name": "stdout",
     "output_type": "stream",
     "text": [
      "[1]\n",
      "0.80625\n"
     ]
    }
   ],
   "source": [
    "knn = KNeighborsClassifier(n_neighbors = 3)\n",
    "knn.fit(a_train, b_train)\n",
    "print(knn.predict(predict))\n",
    "print(knn.score(a_test, b_test))"
   ]
  },
  {
   "cell_type": "markdown",
   "metadata": {},
   "source": [
    "error 2%\n",
    "25-15"
   ]
  },
  {
   "cell_type": "code",
   "execution_count": 11,
   "metadata": {},
   "outputs": [],
   "source": [
    "import pandas as pd\n",
    "import random\n",
    "import numpy as np\n",
    "a=[]\n",
    "b=[]\n",
    "c=[]\n",
    "for i in range(0,196):\n",
    "    x=round(random.uniform(3.0,10.0),2)\n",
    "    a.append(x)\n",
    "    b.append(x*25)\n",
    "    c.append(1)\n",
    "\n",
    "for i  in range(0,4):\n",
    "    x=round(random.uniform(3.0,10.0),2)\n",
    "    a.append(x)\n",
    "    b.append(x*25)\n",
    "    c.append(0)\n",
    "\n",
    "for i in range(0,196):\n",
    "    x=round(random.uniform(3.0,10.0),2)\n",
    "    a.append(x)\n",
    "    b.append(x*15)\n",
    "    c.append(0)\n",
    "    \n",
    "for i  in range(0,4):\n",
    "    x=round(random.uniform(3.0,10.0),2)\n",
    "    a.append(x)\n",
    "    b.append(x*15)\n",
    "    c.append(1)\n",
    "\n",
    "data={\"hight\":a,\"weight\":b,\"c\":c}\n",
    "df = pd.DataFrame(data)\n",
    "df.to_csv(\"knn_vs_svm.csv\")\n",
    "\n"
   ]
  },
  {
   "cell_type": "code",
   "execution_count": 12,
   "metadata": {},
   "outputs": [
    {
     "name": "stdout",
     "output_type": "stream",
     "text": [
      "[1]\n",
      "0.9875\n"
     ]
    }
   ],
   "source": [
    "from sklearn.svm import SVC \n",
    "from sklearn.model_selection import train_test_split\n",
    "from sklearn.neighbors import KNeighborsClassifier\n",
    "\n",
    "data = pd.read_csv('knn_vs_svm.csv')\n",
    "x=data.drop(\"c\",axis=1)\n",
    "y=data[\"c\"]\n",
    "x=np.array(x)\n",
    "y=np.array(y)\n",
    "temp_list=[]\n",
    "count=0\n",
    "for i in x:\n",
    "    temp_list.append([i[1],i[2]])\n",
    "    # temp_list.append(i[2])\n",
    "    \n",
    "temp_list=np.array(temp_list)\n",
    "predict=np.array([5,155]).reshape(1,-1)\n",
    "a_train, a_test, b_train, b_test = train_test_split(temp_list,y,test_size=0.2,random_state=42)\n",
    "svm = SVC(kernel='linear')\n",
    "svm.fit(a_train,b_train)\n",
    "print(svm.predict(predict))\n",
    "print(svm.score(a_test, b_test))"
   ]
  },
  {
   "cell_type": "code",
   "execution_count": 13,
   "metadata": {},
   "outputs": [
    {
     "name": "stdout",
     "output_type": "stream",
     "text": [
      "[1]\n",
      "0.9875\n"
     ]
    }
   ],
   "source": [
    "knn = KNeighborsClassifier(n_neighbors = 3)\n",
    "knn.fit(a_train, b_train)\n",
    "print(knn.predict(predict))\n",
    "print(knn.score(a_test, b_test))"
   ]
  },
  {
   "cell_type": "markdown",
   "metadata": {},
   "source": [
    "error 5%\n",
    "25-15"
   ]
  },
  {
   "cell_type": "code",
   "execution_count": 14,
   "metadata": {},
   "outputs": [],
   "source": [
    "import pandas as pd\n",
    "import random\n",
    "import numpy as np\n",
    "a=[]\n",
    "b=[]\n",
    "c=[]\n",
    "for i in range(0,190):\n",
    "    x=round(random.uniform(3.0,10.0),2)\n",
    "    a.append(x)\n",
    "    b.append(x*25)\n",
    "    c.append(1)\n",
    "\n",
    "for i  in range(0,10):\n",
    "    x=round(random.uniform(3.0,10.0),2)\n",
    "    a.append(x)\n",
    "    b.append(x*25)\n",
    "    c.append(0)\n",
    "\n",
    "for i in range(0,190):\n",
    "    x=round(random.uniform(3.0,10.0),2)\n",
    "    a.append(x)\n",
    "    b.append(x*15)\n",
    "    c.append(0)\n",
    "    \n",
    "for i  in range(0,10):\n",
    "    x=round(random.uniform(3.0,10.0),2)\n",
    "    a.append(x)\n",
    "    b.append(x*15)\n",
    "    c.append(1)\n",
    "\n",
    "data={\"hight\":a,\"weight\":b,\"c\":c}\n",
    "df = pd.DataFrame(data)\n",
    "df.to_csv(\"knn_vs_svm.csv\")\n",
    "\n"
   ]
  },
  {
   "cell_type": "code",
   "execution_count": 15,
   "metadata": {},
   "outputs": [
    {
     "name": "stdout",
     "output_type": "stream",
     "text": [
      "[1]\n",
      "0.9375\n"
     ]
    }
   ],
   "source": [
    "from sklearn.svm import SVC \n",
    "from sklearn.model_selection import train_test_split\n",
    "from sklearn.neighbors import KNeighborsClassifier\n",
    "\n",
    "data = pd.read_csv('knn_vs_svm.csv')\n",
    "x=data.drop(\"c\",axis=1)\n",
    "y=data[\"c\"]\n",
    "x=np.array(x)\n",
    "y=np.array(y)\n",
    "temp_list=[]\n",
    "count=0\n",
    "for i in x:\n",
    "    temp_list.append([i[1],i[2]])\n",
    "    # temp_list.append(i[2])\n",
    "    \n",
    "temp_list=np.array(temp_list)\n",
    "predict=np.array([5,155]).reshape(1,-1)\n",
    "a_train, a_test, b_train, b_test = train_test_split(temp_list,y,test_size=0.2,random_state=42)\n",
    "svm = SVC(kernel='linear')\n",
    "svm.fit(a_train,b_train)\n",
    "print(svm.predict(predict))\n",
    "print(svm.score(a_test, b_test))"
   ]
  },
  {
   "cell_type": "code",
   "execution_count": 16,
   "metadata": {},
   "outputs": [
    {
     "name": "stdout",
     "output_type": "stream",
     "text": [
      "[1]\n",
      "0.9\n"
     ]
    }
   ],
   "source": [
    "knn = KNeighborsClassifier(n_neighbors = 3)\n",
    "knn.fit(a_train, b_train)\n",
    "print(knn.predict(predict))\n",
    "print(knn.score(a_test, b_test))"
   ]
  },
  {
   "cell_type": "markdown",
   "metadata": {},
   "source": [
    "error 2%\n",
    "22-18"
   ]
  },
  {
   "cell_type": "code",
   "execution_count": 17,
   "metadata": {},
   "outputs": [
    {
     "name": "stdout",
     "output_type": "stream",
     "text": [
      "[1]\n",
      "0.9875\n",
      "[1]\n",
      "0.8875\n"
     ]
    }
   ],
   "source": [
    "import pandas as pd\n",
    "import random\n",
    "import numpy as np\n",
    "a=[]\n",
    "b=[]\n",
    "c=[]\n",
    "for i in range(0,196):\n",
    "    x=round(random.uniform(3.0,10.0),2)\n",
    "    a.append(x)\n",
    "    b.append(x*22)\n",
    "    c.append(1)\n",
    "\n",
    "for i  in range(0,4):\n",
    "    x=round(random.uniform(3.0,10.0),2)\n",
    "    a.append(x)\n",
    "    b.append(x*22)\n",
    "    c.append(0)\n",
    "\n",
    "for i in range(0,196):\n",
    "    x=round(random.uniform(3.0,10.0),2)\n",
    "    a.append(x)\n",
    "    b.append(x*18)\n",
    "    c.append(0)\n",
    "    \n",
    "for i  in range(0,4):\n",
    "    x=round(random.uniform(3.0,10.0),2)\n",
    "    a.append(x)\n",
    "    b.append(x*18)\n",
    "    c.append(1)\n",
    "\n",
    "data={\"hight\":a,\"weight\":b,\"c\":c}\n",
    "df = pd.DataFrame(data)\n",
    "df.to_csv(\"knn_vs_svm.csv\")\n",
    "\n",
    "from sklearn.svm import SVC \n",
    "from sklearn.model_selection import train_test_split\n",
    "from sklearn.neighbors import KNeighborsClassifier\n",
    "\n",
    "data = pd.read_csv('knn_vs_svm.csv')\n",
    "x=data.drop(\"c\",axis=1)\n",
    "y=data[\"c\"]\n",
    "x=np.array(x)\n",
    "y=np.array(y)\n",
    "temp_list=[]\n",
    "count=0\n",
    "for i in x:\n",
    "    temp_list.append([i[1],i[2]])\n",
    "    # temp_list.append(i[2])\n",
    "    \n",
    "temp_list=np.array(temp_list)\n",
    "predict=np.array([5,155]).reshape(1,-1)\n",
    "a_train, a_test, b_train, b_test = train_test_split(temp_list,y,test_size=0.2,random_state=42)\n",
    "svm = SVC(kernel='linear')\n",
    "svm.fit(a_train,b_train)\n",
    "print(svm.predict(predict))\n",
    "print(svm.score(a_test, b_test))\n",
    "\n",
    "knn = KNeighborsClassifier(n_neighbors = 3)\n",
    "knn.fit(a_train, b_train)\n",
    "print(knn.predict(predict))\n",
    "print(knn.score(a_test, b_test))"
   ]
  },
  {
   "cell_type": "markdown",
   "metadata": {},
   "source": [
    "error 5%\n",
    "22-18"
   ]
  },
  {
   "cell_type": "code",
   "execution_count": 18,
   "metadata": {},
   "outputs": [
    {
     "name": "stdout",
     "output_type": "stream",
     "text": [
      "[1]\n",
      "0.9375\n",
      "[1]\n",
      "0.825\n"
     ]
    }
   ],
   "source": [
    "import pandas as pd\n",
    "import random\n",
    "import numpy as np\n",
    "a=[]\n",
    "b=[]\n",
    "c=[]\n",
    "for i in range(0,190):\n",
    "    x=round(random.uniform(3.0,10.0),2)\n",
    "    a.append(x)\n",
    "    b.append(x*22)\n",
    "    c.append(1)\n",
    "\n",
    "for i  in range(0,10):\n",
    "    x=round(random.uniform(3.0,10.0),2)\n",
    "    a.append(x)\n",
    "    b.append(x*22)\n",
    "    c.append(0)\n",
    "\n",
    "for i in range(0,190):\n",
    "    x=round(random.uniform(3.0,10.0),2)\n",
    "    a.append(x)\n",
    "    b.append(x*18)\n",
    "    c.append(0)\n",
    "    \n",
    "for i  in range(0,10):\n",
    "    x=round(random.uniform(3.0,10.0),2)\n",
    "    a.append(x)\n",
    "    b.append(x*18)\n",
    "    c.append(1)\n",
    "\n",
    "data={\"hight\":a,\"weight\":b,\"c\":c}\n",
    "df = pd.DataFrame(data)\n",
    "df.to_csv(\"knn_vs_svm.csv\")\n",
    "\n",
    "from sklearn.svm import SVC \n",
    "from sklearn.model_selection import train_test_split\n",
    "from sklearn.neighbors import KNeighborsClassifier\n",
    "\n",
    "data = pd.read_csv('knn_vs_svm.csv')\n",
    "x=data.drop(\"c\",axis=1)\n",
    "y=data[\"c\"]\n",
    "x=np.array(x)\n",
    "y=np.array(y)\n",
    "temp_list=[]\n",
    "count=0\n",
    "for i in x:\n",
    "    temp_list.append([i[1],i[2]])\n",
    "    # temp_list.append(i[2])\n",
    "    \n",
    "temp_list=np.array(temp_list)\n",
    "predict=np.array([5,155]).reshape(1,-1)\n",
    "a_train, a_test, b_train, b_test = train_test_split(temp_list,y,test_size=0.2,random_state=42)\n",
    "svm = SVC(kernel='linear')\n",
    "svm.fit(a_train,b_train)\n",
    "print(svm.predict(predict))\n",
    "print(svm.score(a_test, b_test))\n",
    "\n",
    "knn = KNeighborsClassifier(n_neighbors = 3)\n",
    "knn.fit(a_train, b_train)\n",
    "print(knn.predict(predict))\n",
    "print(knn.score(a_test, b_test))"
   ]
  },
  {
   "cell_type": "markdown",
   "metadata": {},
   "source": [
    "error 2%\n",
    "21-19"
   ]
  },
  {
   "cell_type": "code",
   "execution_count": 19,
   "metadata": {},
   "outputs": [
    {
     "name": "stdout",
     "output_type": "stream",
     "text": [
      "[1]\n",
      "0.9875\n",
      "[1]\n",
      "0.625\n"
     ]
    }
   ],
   "source": [
    "import pandas as pd\n",
    "import random\n",
    "import numpy as np\n",
    "a=[]\n",
    "b=[]\n",
    "c=[]\n",
    "for i in range(0,196):\n",
    "    x=round(random.uniform(3.0,10.0),2)\n",
    "    a.append(x)\n",
    "    b.append(x*21)\n",
    "    c.append(1)\n",
    "\n",
    "for i  in range(0,4):\n",
    "    x=round(random.uniform(3.0,10.0),2)\n",
    "    a.append(x)\n",
    "    b.append(x*21)\n",
    "    c.append(0)\n",
    "\n",
    "for i in range(0,196):\n",
    "    x=round(random.uniform(3.0,10.0),2)\n",
    "    a.append(x)\n",
    "    b.append(x*19)\n",
    "    c.append(0)\n",
    "    \n",
    "for i  in range(0,4):\n",
    "    x=round(random.uniform(3.0,10.0),2)\n",
    "    a.append(x)\n",
    "    b.append(x*19)\n",
    "    c.append(1)\n",
    "\n",
    "data={\"hight\":a,\"weight\":b,\"c\":c}\n",
    "df = pd.DataFrame(data)\n",
    "df.to_csv(\"knn_vs_svm.csv\")\n",
    "\n",
    "from sklearn.svm import SVC \n",
    "from sklearn.model_selection import train_test_split\n",
    "from sklearn.neighbors import KNeighborsClassifier\n",
    "\n",
    "data = pd.read_csv('knn_vs_svm.csv')\n",
    "x=data.drop(\"c\",axis=1)\n",
    "y=data[\"c\"]\n",
    "x=np.array(x)\n",
    "y=np.array(y)\n",
    "temp_list=[]\n",
    "count=0\n",
    "for i in x:\n",
    "    temp_list.append([i[1],i[2]])\n",
    "    # temp_list.append(i[2])\n",
    "    \n",
    "temp_list=np.array(temp_list)\n",
    "predict=np.array([5,155]).reshape(1,-1)\n",
    "a_train, a_test, b_train, b_test = train_test_split(temp_list,y,test_size=0.2,random_state=42)\n",
    "svm = SVC(kernel='linear')\n",
    "svm.fit(a_train,b_train)\n",
    "print(svm.predict(predict))\n",
    "print(svm.score(a_test, b_test))\n",
    "\n",
    "knn = KNeighborsClassifier(n_neighbors = 3)\n",
    "knn.fit(a_train, b_train)\n",
    "print(knn.predict(predict))\n",
    "print(knn.score(a_test, b_test))"
   ]
  },
  {
   "cell_type": "markdown",
   "metadata": {},
   "source": [
    "100-300-_"
   ]
  },
  {
   "cell_type": "code",
   "execution_count": 21,
   "metadata": {},
   "outputs": [
    {
     "name": "stdout",
     "output_type": "stream",
     "text": [
      "[1]\n",
      "1.0\n",
      "[1]\n",
      "0.96875\n"
     ]
    }
   ],
   "source": [
    "import pandas as pd\n",
    "import random\n",
    "import numpy as np\n",
    "a=[]\n",
    "b=[]\n",
    "c=[]\n",
    "for i in range(0,100):\n",
    "    x=round(random.uniform(3.0,10.0),2)\n",
    "    a.append(x)\n",
    "    b.append(x*25)\n",
    "    c.append(1)\n",
    "\n",
    "for i  in range(0,300):\n",
    "    x=round(random.uniform(3.0,10.0),2)\n",
    "    a.append(x)\n",
    "    b.append(x*22)\n",
    "    c.append(1)\n",
    "\n",
    "for i in range(0,100):\n",
    "    x=round(random.uniform(3.0,10.0),2)\n",
    "    a.append(x)\n",
    "    b.append(x*15)\n",
    "    c.append(0)\n",
    "    \n",
    "for i  in range(0,300):\n",
    "    x=round(random.uniform(3.0,10.0),2)\n",
    "    a.append(x)\n",
    "    b.append(x*18)\n",
    "    c.append(0)\n",
    "\n",
    "data={\"hight\":a,\"weight\":b,\"c\":c}\n",
    "df = pd.DataFrame(data)\n",
    "df.to_csv(\"knn_vs_svm.csv\")\n",
    "\n",
    "from sklearn.svm import SVC \n",
    "from sklearn.model_selection import train_test_split\n",
    "from sklearn.neighbors import KNeighborsClassifier\n",
    "\n",
    "data = pd.read_csv('knn_vs_svm.csv')\n",
    "x=data.drop(\"c\",axis=1)\n",
    "y=data[\"c\"]\n",
    "x=np.array(x)\n",
    "y=np.array(y)\n",
    "temp_list=[]\n",
    "count=0\n",
    "for i in x:\n",
    "    temp_list.append([i[1],i[2]])\n",
    "    # temp_list.append(i[2])\n",
    "    \n",
    "temp_list=np.array(temp_list)\n",
    "predict=np.array([5,155]).reshape(1,-1)\n",
    "a_train, a_test, b_train, b_test = train_test_split(temp_list,y,test_size=0.2,random_state=42)\n",
    "svm = SVC(kernel='linear')\n",
    "svm.fit(a_train,b_train)\n",
    "print(svm.predict(predict))\n",
    "print(svm.score(a_test, b_test))\n",
    "\n",
    "knn = KNeighborsClassifier(n_neighbors = 3)\n",
    "knn.fit(a_train, b_train)\n",
    "print(knn.predict(predict))\n",
    "print(knn.score(a_test, b_test))"
   ]
  },
  {
   "cell_type": "markdown",
   "metadata": {},
   "source": [
    "_-200-200"
   ]
  },
  {
   "cell_type": "code",
   "execution_count": 22,
   "metadata": {},
   "outputs": [
    {
     "name": "stdout",
     "output_type": "stream",
     "text": [
      "[1]\n",
      "1.0\n",
      "[1]\n",
      "0.9\n"
     ]
    }
   ],
   "source": [
    "import pandas as pd\n",
    "import random\n",
    "import numpy as np\n",
    "a=[]\n",
    "b=[]\n",
    "c=[]\n",
    "for i in range(0,200):\n",
    "    x=round(random.uniform(3.0,10.0),2)\n",
    "    a.append(x)\n",
    "    b.append(x*22)\n",
    "    c.append(1)\n",
    "\n",
    "for i  in range(0,200):\n",
    "    x=round(random.uniform(3.0,10.0),2)\n",
    "    a.append(x)\n",
    "    b.append(x*21)\n",
    "    c.append(1)\n",
    "\n",
    "for i in range(0,200):\n",
    "    x=round(random.uniform(3.0,10.0),2)\n",
    "    a.append(x)\n",
    "    b.append(x*18)\n",
    "    c.append(0)\n",
    "    \n",
    "for i  in range(0,200):\n",
    "    x=round(random.uniform(3.0,10.0),2)\n",
    "    a.append(x)\n",
    "    b.append(x*19)\n",
    "    c.append(0)\n",
    "\n",
    "data={\"hight\":a,\"weight\":b,\"c\":c}\n",
    "df = pd.DataFrame(data)\n",
    "df.to_csv(\"knn_vs_svm.csv\")\n",
    "\n",
    "from sklearn.svm import SVC \n",
    "from sklearn.model_selection import train_test_split\n",
    "from sklearn.neighbors import KNeighborsClassifier\n",
    "\n",
    "data = pd.read_csv('knn_vs_svm.csv')\n",
    "x=data.drop(\"c\",axis=1)\n",
    "y=data[\"c\"]\n",
    "x=np.array(x)\n",
    "y=np.array(y)\n",
    "temp_list=[]\n",
    "count=0\n",
    "for i in x:\n",
    "    temp_list.append([i[1],i[2]])\n",
    "    # temp_list.append(i[2])\n",
    "    \n",
    "temp_list=np.array(temp_list)\n",
    "predict=np.array([5,155]).reshape(1,-1)\n",
    "a_train, a_test, b_train, b_test = train_test_split(temp_list,y,test_size=0.2,random_state=42)\n",
    "svm = SVC(kernel='linear')\n",
    "svm.fit(a_train,b_train)\n",
    "print(svm.predict(predict))\n",
    "print(svm.score(a_test, b_test))\n",
    "\n",
    "knn = KNeighborsClassifier(n_neighbors = 3)\n",
    "knn.fit(a_train, b_train)\n",
    "print(knn.predict(predict))\n",
    "print(knn.score(a_test, b_test))"
   ]
  }
 ],
 "metadata": {
  "kernelspec": {
   "display_name": "Python 3 (ipykernel)",
   "language": "python",
   "name": "python3"
  },
  "language_info": {
   "codemirror_mode": {
    "name": "ipython",
    "version": 3
   },
   "file_extension": ".py",
   "mimetype": "text/x-python",
   "name": "python",
   "nbconvert_exporter": "python",
   "pygments_lexer": "ipython3",
   "version": "3.11.4"
  },
  "orig_nbformat": 4
 },
 "nbformat": 4,
 "nbformat_minor": 2
}
